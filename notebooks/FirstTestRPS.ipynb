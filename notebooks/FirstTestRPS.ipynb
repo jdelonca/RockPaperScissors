{
 "cells": [
  {
   "cell_type": "code",
   "execution_count": 37,
   "metadata": {},
   "outputs": [],
   "source": [
    "import pandas as pd\n",
    "from sklearn.model_selection import GridSearchCV\n",
    "from sklearn.neural_network import MLPClassifier\n",
    "from sklearn.svm import SVC\n",
    "from sklearn.preprocessing import StandardScaler\n",
    "import numpy as np\n",
    "from scipy import stats\n",
    "import joblib"
   ]
  },
  {
   "cell_type": "code",
   "execution_count": 10,
   "metadata": {},
   "outputs": [
    {
     "data": {
      "text/html": [
       "<div>\n",
       "<style scoped>\n",
       "    .dataframe tbody tr th:only-of-type {\n",
       "        vertical-align: middle;\n",
       "    }\n",
       "\n",
       "    .dataframe tbody tr th {\n",
       "        vertical-align: top;\n",
       "    }\n",
       "\n",
       "    .dataframe thead th {\n",
       "        text-align: right;\n",
       "    }\n",
       "</style>\n",
       "<table border=\"1\" class=\"dataframe\">\n",
       "  <thead>\n",
       "    <tr style=\"text-align: right;\">\n",
       "      <th></th>\n",
       "      <th>0X</th>\n",
       "      <th>0Y</th>\n",
       "      <th>1X</th>\n",
       "      <th>1Y</th>\n",
       "      <th>1Z</th>\n",
       "      <th>2X</th>\n",
       "      <th>2Y</th>\n",
       "      <th>2Z</th>\n",
       "      <th>3X</th>\n",
       "      <th>3Y</th>\n",
       "      <th>...</th>\n",
       "      <th>19X</th>\n",
       "      <th>19Y</th>\n",
       "      <th>19Z</th>\n",
       "      <th>20X</th>\n",
       "      <th>20Y</th>\n",
       "      <th>20Z</th>\n",
       "      <th>pierre</th>\n",
       "      <th>papier</th>\n",
       "      <th>ciseau</th>\n",
       "      <th>class_ix</th>\n",
       "    </tr>\n",
       "  </thead>\n",
       "  <tbody>\n",
       "    <tr>\n",
       "      <th>0</th>\n",
       "      <td>0.399762</td>\n",
       "      <td>0.605224</td>\n",
       "      <td>0.468224</td>\n",
       "      <td>0.571393</td>\n",
       "      <td>0.011114</td>\n",
       "      <td>0.535536</td>\n",
       "      <td>0.562703</td>\n",
       "      <td>-0.005410</td>\n",
       "      <td>0.581658</td>\n",
       "      <td>0.593264</td>\n",
       "      <td>...</td>\n",
       "      <td>0.488453</td>\n",
       "      <td>0.712210</td>\n",
       "      <td>-0.130412</td>\n",
       "      <td>0.470517</td>\n",
       "      <td>0.685818</td>\n",
       "      <td>-0.114807</td>\n",
       "      <td>1</td>\n",
       "      <td>0</td>\n",
       "      <td>0</td>\n",
       "      <td>0</td>\n",
       "    </tr>\n",
       "    <tr>\n",
       "      <th>1</th>\n",
       "      <td>0.345986</td>\n",
       "      <td>0.523170</td>\n",
       "      <td>0.431423</td>\n",
       "      <td>0.566229</td>\n",
       "      <td>0.000925</td>\n",
       "      <td>0.512038</td>\n",
       "      <td>0.656728</td>\n",
       "      <td>-0.022832</td>\n",
       "      <td>0.548989</td>\n",
       "      <td>0.757154</td>\n",
       "      <td>...</td>\n",
       "      <td>0.349909</td>\n",
       "      <td>0.789651</td>\n",
       "      <td>-0.145727</td>\n",
       "      <td>0.350797</td>\n",
       "      <td>0.742302</td>\n",
       "      <td>-0.128931</td>\n",
       "      <td>1</td>\n",
       "      <td>0</td>\n",
       "      <td>0</td>\n",
       "      <td>0</td>\n",
       "    </tr>\n",
       "    <tr>\n",
       "      <th>2</th>\n",
       "      <td>0.331668</td>\n",
       "      <td>0.509075</td>\n",
       "      <td>0.426953</td>\n",
       "      <td>0.548386</td>\n",
       "      <td>0.008503</td>\n",
       "      <td>0.506499</td>\n",
       "      <td>0.638192</td>\n",
       "      <td>-0.010258</td>\n",
       "      <td>0.544655</td>\n",
       "      <td>0.744586</td>\n",
       "      <td>...</td>\n",
       "      <td>0.347203</td>\n",
       "      <td>0.766743</td>\n",
       "      <td>-0.129066</td>\n",
       "      <td>0.345190</td>\n",
       "      <td>0.707406</td>\n",
       "      <td>-0.112110</td>\n",
       "      <td>1</td>\n",
       "      <td>0</td>\n",
       "      <td>0</td>\n",
       "      <td>0</td>\n",
       "    </tr>\n",
       "    <tr>\n",
       "      <th>3</th>\n",
       "      <td>0.355348</td>\n",
       "      <td>0.502430</td>\n",
       "      <td>0.447299</td>\n",
       "      <td>0.535909</td>\n",
       "      <td>0.005518</td>\n",
       "      <td>0.527554</td>\n",
       "      <td>0.628732</td>\n",
       "      <td>-0.014713</td>\n",
       "      <td>0.560454</td>\n",
       "      <td>0.738761</td>\n",
       "      <td>...</td>\n",
       "      <td>0.360879</td>\n",
       "      <td>0.757194</td>\n",
       "      <td>-0.125835</td>\n",
       "      <td>0.359875</td>\n",
       "      <td>0.701427</td>\n",
       "      <td>-0.109228</td>\n",
       "      <td>1</td>\n",
       "      <td>0</td>\n",
       "      <td>0</td>\n",
       "      <td>0</td>\n",
       "    </tr>\n",
       "    <tr>\n",
       "      <th>4</th>\n",
       "      <td>0.360759</td>\n",
       "      <td>0.504420</td>\n",
       "      <td>0.449354</td>\n",
       "      <td>0.532166</td>\n",
       "      <td>0.003292</td>\n",
       "      <td>0.527185</td>\n",
       "      <td>0.624952</td>\n",
       "      <td>-0.016635</td>\n",
       "      <td>0.559306</td>\n",
       "      <td>0.736007</td>\n",
       "      <td>...</td>\n",
       "      <td>0.361286</td>\n",
       "      <td>0.764354</td>\n",
       "      <td>-0.122693</td>\n",
       "      <td>0.360595</td>\n",
       "      <td>0.709032</td>\n",
       "      <td>-0.104617</td>\n",
       "      <td>1</td>\n",
       "      <td>0</td>\n",
       "      <td>0</td>\n",
       "      <td>0</td>\n",
       "    </tr>\n",
       "  </tbody>\n",
       "</table>\n",
       "<p>5 rows × 66 columns</p>\n",
       "</div>"
      ],
      "text/plain": [
       "         0X        0Y        1X        1Y        1Z        2X        2Y  \\\n",
       "0  0.399762  0.605224  0.468224  0.571393  0.011114  0.535536  0.562703   \n",
       "1  0.345986  0.523170  0.431423  0.566229  0.000925  0.512038  0.656728   \n",
       "2  0.331668  0.509075  0.426953  0.548386  0.008503  0.506499  0.638192   \n",
       "3  0.355348  0.502430  0.447299  0.535909  0.005518  0.527554  0.628732   \n",
       "4  0.360759  0.504420  0.449354  0.532166  0.003292  0.527185  0.624952   \n",
       "\n",
       "         2Z        3X        3Y  ...       19X       19Y       19Z       20X  \\\n",
       "0 -0.005410  0.581658  0.593264  ...  0.488453  0.712210 -0.130412  0.470517   \n",
       "1 -0.022832  0.548989  0.757154  ...  0.349909  0.789651 -0.145727  0.350797   \n",
       "2 -0.010258  0.544655  0.744586  ...  0.347203  0.766743 -0.129066  0.345190   \n",
       "3 -0.014713  0.560454  0.738761  ...  0.360879  0.757194 -0.125835  0.359875   \n",
       "4 -0.016635  0.559306  0.736007  ...  0.361286  0.764354 -0.122693  0.360595   \n",
       "\n",
       "        20Y       20Z  pierre  papier  ciseau  class_ix  \n",
       "0  0.685818 -0.114807       1       0       0         0  \n",
       "1  0.742302 -0.128931       1       0       0         0  \n",
       "2  0.707406 -0.112110       1       0       0         0  \n",
       "3  0.701427 -0.109228       1       0       0         0  \n",
       "4  0.709032 -0.104617       1       0       0         0  \n",
       "\n",
       "[5 rows x 66 columns]"
      ]
     },
     "execution_count": 10,
     "metadata": {},
     "output_type": "execute_result"
    }
   ],
   "source": [
    "datas = pd.read_csv('rock_paper_scissors.csv')\n",
    "datas.drop('0Z', axis='columns', inplace=True) # because every z coord are distance to joints 0 so 0Z always equals 0\n",
    "datas['class_ix'] = 0\n",
    "datas.loc[datas['papier'] == 1,'class_ix'] = 1\n",
    "datas.loc[datas['ciseau'] == 1,'class_ix'] = 2\n",
    "datas.head()"
   ]
  },
  {
   "cell_type": "code",
   "execution_count": 16,
   "metadata": {},
   "outputs": [
    {
     "name": "stdout",
     "output_type": "stream",
     "text": [
      "Fitting 5 folds for each of 64 candidates, totalling 320 fits\n"
     ]
    },
    {
     "name": "stderr",
     "output_type": "stream",
     "text": [
      "[Parallel(n_jobs=-1)]: Using backend LokyBackend with 8 concurrent workers.\n",
      "[Parallel(n_jobs=-1)]: Done  34 tasks      | elapsed:   38.5s\n",
      "[Parallel(n_jobs=-1)]: Done 184 tasks      | elapsed:  2.3min\n",
      "[Parallel(n_jobs=-1)]: Done 320 out of 320 | elapsed:  4.1min finished\n",
      "C:\\Users\\jdelonca\\Anaconda3\\lib\\site-packages\\sklearn\\neural_network\\_multilayer_perceptron.py:471: ConvergenceWarning: lbfgs failed to converge (status=1):\n",
      "STOP: TOTAL NO. of ITERATIONS REACHED LIMIT.\n",
      "\n",
      "Increase the number of iterations (max_iter) or scale the data as shown in:\n",
      "    https://scikit-learn.org/stable/modules/preprocessing.html\n",
      "  self.n_iter_ = _check_optimize_result(\"lbfgs\", opt_res, self.max_iter)\n"
     ]
    },
    {
     "data": {
      "text/plain": [
       "GridSearchCV(cv=5, estimator=MLPClassifier(max_iter=1000, solver='lbfgs'),\n",
       "             n_jobs=-1,\n",
       "             param_grid={'activation': ['identity', 'logistic', 'tanh', 'relu'],\n",
       "                         'alpha': [0.1, 0.01, 0.001, 0.0001],\n",
       "                         'hidden_layer_sizes': [100, (100, 10), (50, 50),\n",
       "                                                (25, 50, 25)]},\n",
       "             verbose=1)"
      ]
     },
     "execution_count": 16,
     "metadata": {},
     "output_type": "execute_result"
    }
   ],
   "source": [
    "dic_param = {'alpha':[0.1, 0.01, 0.001, 0.0001], \n",
    "             'activation':['identity', 'logistic', 'tanh', 'relu'], \n",
    "             'hidden_layer_sizes':[(100), (100, 10), (50, 50), (25, 50, 25)]}\n",
    "\n",
    "model = MLPClassifier(solver='lbfgs', max_iter=1000)\n",
    "result = GridSearchCV(model, dic_param, verbose=1, cv=5, n_jobs=-1)\n",
    "\n",
    "result.fit(datas.loc[:,'0X':'20Z'], datas['class_ix'])"
   ]
  },
  {
   "cell_type": "code",
   "execution_count": 20,
   "metadata": {},
   "outputs": [
    {
     "name": "stdout",
     "output_type": "stream",
     "text": [
      "{'activation': 'relu', 'alpha': 0.1, 'hidden_layer_sizes': (100, 10)}\n",
      "0.9159473163492455\n",
      "MLPClassifier(alpha=0.1, hidden_layer_sizes=(100, 10), max_iter=1000,\n",
      "              solver='lbfgs')\n"
     ]
    }
   ],
   "source": [
    "print(result.best_params_)\n",
    "print(result.best_score_)\n",
    "print(result.best_estimator_)"
   ]
  },
  {
   "cell_type": "code",
   "execution_count": 35,
   "metadata": {},
   "outputs": [
    {
     "name": "stdout",
     "output_type": "stream",
     "text": [
      "DescribeResult(nobs=1558, minmax=(0.6204443143588535, 0.9999999999981757), mean=0.9949047731792633, variance=0.0004830185340757811, skewness=-10.257562558015252, kurtosis=132.32744515812752)\n"
     ]
    }
   ],
   "source": [
    "model = result.best_estimator_\n",
    "probas = np.array(model.predict_proba(datas.loc[:,'0X':'20Z']))\n",
    "max_prob = np.amax(probas, 1)\n",
    "print(stats.describe(max_prob))"
   ]
  },
  {
   "cell_type": "code",
   "execution_count": 36,
   "metadata": {},
   "outputs": [
    {
     "name": "stdout",
     "output_type": "stream",
     "text": [
      "DescribeResult(nobs=423, minmax=(0.5022890423235109, 0.999999966117272), mean=0.9806297945297326, variance=0.004975304490513744, skewness=-4.931597202770706, kurtosis=25.341811561753865)\n"
     ]
    }
   ],
   "source": [
    "others = pd.read_csv('not_rps.csv')\n",
    "others.drop('0Z', axis='columns', inplace=True) # because every z coord are distance to joints 0 so 0Z always equals 0\n",
    "probas = np.array(model.predict_proba(others.loc[:,'0X':'20Z']))\n",
    "max_prob = np.amax(probas, 1)\n",
    "print(stats.describe(max_prob))"
   ]
  },
  {
   "cell_type": "code",
   "execution_count": 39,
   "metadata": {},
   "outputs": [
    {
     "data": {
      "text/plain": [
       "['RPS_classifier.joblib']"
      ]
     },
     "execution_count": 39,
     "metadata": {},
     "output_type": "execute_result"
    }
   ],
   "source": [
    "joblib.dump(model, 'RPS_classifier.joblib')"
   ]
  }
 ],
 "metadata": {
  "kernelspec": {
   "display_name": "Python 3.8.10 64-bit",
   "language": "python",
   "name": "python3"
  },
  "language_info": {
   "codemirror_mode": {
    "name": "ipython",
    "version": 3
   },
   "file_extension": ".py",
   "mimetype": "text/x-python",
   "name": "python",
   "nbconvert_exporter": "python",
   "pygments_lexer": "ipython3",
   "version": "3.8.10"
  },
  "vscode": {
   "interpreter": {
    "hash": "916dbcbb3f70747c44a77c7bcd40155683ae19c65e1c03b4aa3499c5328201f1"
   }
  }
 },
 "nbformat": 4,
 "nbformat_minor": 4
}
